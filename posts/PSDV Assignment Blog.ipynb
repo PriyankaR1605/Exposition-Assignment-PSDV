{
 "cells": [
  {
   "cell_type": "markdown",
   "id": "6d9c62bd-f5e4-4add-a6b4-e1fb5379e745",
   "metadata": {},
   "source": [
    "**STOP DRAWING START CODING : Automating Architecture Diagrams with mingrammer/diagrams**"
   ]
  },
  {
   "cell_type": "markdown",
   "id": "5390f16e-bb15-4a07-bc20-ddc8dc3c9098",
   "metadata": {},
   "source": [
    "Ever spent hours perfecting an architecture diagram, only to have one tiny system update throw everything off? Sounds frustrating, right? \n",
    "What if you could generate professional, scalable, and dynamic system diagrams, just by writing a few lines of Python code?\n",
    "\n",
    "**Welcome to mingrammer/diagrams**—a powerful Python library that lets you create cloud, DevOps, and infrastructure diagrams effortlessly!\n",
    "\n",
    "- No more dragging and tweaking of shapes.\n",
    "\n",
    "- No more struggling with alignment.\n",
    "\n",
    "- No more outdated documentation.\n",
    "\n",
    "With Diagrams, you can now turn your code into accurate, stunning and professional system diagrams within seconds. In this blog, we’ll explore the following areas:\n",
    "\n",
    "- Introduction to Diagrams\n",
    "\n",
    "- Installation setup\n",
    "\n",
    "- Core features\n",
    "\n",
    "- Advanced features\n",
    "\n",
    "-  Real-world use cases\n",
    "\n",
    "- More references\n",
    "\n",
    "- Conclusion"
   ]
  },
  {
   "cell_type": "markdown",
   "id": "e167b3ad-e4b8-487d-b9c4-1dd82a3ba432",
   "metadata": {},
   "source": [
    "***Prerequisites***"
   ]
  },
  {
   "cell_type": "markdown",
   "id": "6cae6bfe-d026-4822-afef-5851e7996f87",
   "metadata": {},
   "source": [
    "**Python:** This versatile programming language will serve as our trusty companion throughout the process. Ensure to install python version 3.7 or above."
   ]
  },
  {
   "cell_type": "markdown",
   "id": "4b56627e-8f06-462f-875a-44e83ed80037",
   "metadata": {},
   "source": [
    "***Introduction***"
   ]
  },
  {
   "cell_type": "markdown",
   "id": "c496d059-bca3-4d29-b83b-8cb087925156",
   "metadata": {},
   "source": [
    "In early 2020, python library Diagrams was created by a Korean developer MinJae Kwon.\n",
    "This Python-based library allows developers to generate professional system diagrams with just  few lines of code. With Diagrams, you can create AWS, GCP, Kubernetes, On-Prem, and SaaS infrastructure diagrams programmatically, making it an excellent tool for DevOps engineers, cloud architects, and system designers."
   ]
  },
  {
   "cell_type": "markdown",
   "id": "409d0e3d-7e54-4e40-966e-c1297d0bd0a1",
   "metadata": {},
   "source": [
    "**What is Diagrams?**\n",
    "\n",
    "Diagrams is an open-source Python library that allows you to generate architecture diagrams programmatically. Instead of dragging and dropping elements in a diagramming tool, you can write simple Python code to create cloud architecture, microservices, and DevOps pipeline diagrams."
   ]
  },
  {
   "cell_type": "markdown",
   "id": "6338cb32-1d12-4aee-a7cd-5cfe94cb91dc",
   "metadata": {},
   "source": [
    "**What is \"Diagrams as Code\"?**"
   ]
  },
  {
   "cell_type": "markdown",
   "id": "79172d6b-11b3-4a94-8c59-a9f8c6d45d9a",
   "metadata": {},
   "source": [
    "The concept of \"Diagrams as Code\" refers to automating the process of diagram generation using code instead of manually designing visuals. Just like Infrastructure as Code (IaC) automates cloud provisioning, Diagrams as Code makes system documentation easier, scalable, and version-controlled."
   ]
  },
  {
   "cell_type": "markdown",
   "id": "028af965-9b95-490d-a26c-ae632330714a",
   "metadata": {},
   "source": [
    "| **Aspect**          | **Manual Approach**  | **Diagrams as Code Approach**  |\n",
    "|---------------------|----------------------|---------------------------------|\n",
    "| **Creation Method** | Manually design diagrams using **Visio, Lucidchart, Draw.io** | Write **Python scripts** to generate diagrams programmatically |\n",
    "| **Maintenance**     | Difficult to update and maintain when system changes | **Easily editable and reusable**—update with code changes |\n",
    "| **Accuracy**        | Prone to **human errors** and inconsistencies | Ensures **precision and consistency** |\n",
    "| **Collaboration**   | Hard to track changes in team projects | **Version-controlled** with GitHub/GitLab |\n",
    "| **Automation**      | No automation—manual updates required | **Real-time updates** with automated documentation |\n"
   ]
  },
  {
   "cell_type": "markdown",
   "id": "fcbd5ee7-4ad3-4fc6-94e4-ebdabc6f02c5",
   "metadata": {},
   "source": [
    "***Now let's see how to install and setup Diagrams in Python***"
   ]
  },
  {
   "cell_type": "markdown",
   "id": "952690cf-da15-4014-931a-62f216513b2a",
   "metadata": {},
   "source": [
    "**Before installing Diagrams you need to install:**\n",
    "\n",
    "- **Python 3.7+** (https://www.python.org/downloads/)\n",
    "  \n",
    "-  **Graphviz**\n",
    "\n",
    "  \n",
    "Graphviz (Graph Visualization Software) is an open-source tool used for generating diagrams and graphs from text-based descriptions. It is widely used for network diagrams, architecture visualization, dependency graphs, and flowcharts.\n",
    "\n",
    "Why is Graphviz Important?\n",
    "\n",
    " Required by Diagrams (mingrammer/diagrams) for rendering visuals.\n",
    "\n",
    " Automatic layout generation (arranges nodes and edges efficiently).\n",
    "\n",
    " Supports multiple formats (PNG, SVG, PDF, etc).\n",
    "\n",
    " Integrates with Python, C, Java, etc."
   ]
  },
  {
   "cell_type": "markdown",
   "id": "2596b70e-3e84-46a5-94c8-352b55d9eae1",
   "metadata": {},
   "source": [
    "**To Install Graphviz:**"
   ]
  },
  {
   "cell_type": "markdown",
   "id": "0cc0af5d-839f-4659-b6e9-6adbd25e1197",
   "metadata": {},
   "source": [
    "- **For Window Users:**\n",
    "  \n",
    "1. Download and install Graphviz.\n",
    "   \n",
    "2. Add Graphviz to the system PATH variable.\n",
    "    o Open System Properties .\n",
    "    o Go to the Advanced tab then Click on the Environment Variables.\n",
    "    o Under System Variables, find Path, click Edit.\n",
    "    o Add the Graphviz bin directory path, which is usually: C:\\Program\n",
    "      Files\\Graphviz\\bin\n",
    "Then Click OK and restart your terminal.\n",
    "\n",
    "3. Check that the Graphviz is installed by running the following code:"
   ]
  },
  {
   "cell_type": "raw",
   "id": "77eeafbc-a43f-4bf9-8fff-b397d9e9399d",
   "metadata": {},
   "source": [
    "dot -V"
   ]
  },
  {
   "cell_type": "markdown",
   "id": "31a43f6e-6c83-4d9b-ba91-6ea206890bb8",
   "metadata": {},
   "source": [
    "If Graphviz is installed correctly, you must see the output as follows: "
   ]
  },
  {
   "cell_type": "raw",
   "id": "73d3030b-73d1-49d9-988a-37e90565487c",
   "metadata": {},
   "source": [
    "dot - Graphviz version 2.49.3 (2025-02-22)"
   ]
  },
  {
   "cell_type": "markdown",
   "id": "e790bf7a-78ca-40b0-8011-34fecf45055d",
   "metadata": {},
   "source": [
    "- **For macOS Users:**"
   ]
  },
  {
   "cell_type": "markdown",
   "id": "2d08a8cd-fff8-4d3f-aa44-2babef050e0d",
   "metadata": {},
   "source": [
    "To install Graphviz by using homebrew run the code:"
   ]
  },
  {
   "cell_type": "raw",
   "id": "1191f4ec-d550-47d3-88e5-9c2cbe0dd13b",
   "metadata": {},
   "source": [
    "brew install Graphviz"
   ]
  },
  {
   "cell_type": "markdown",
   "id": "32e33a11-e561-485e-8e44-3e9cb9078d2d",
   "metadata": {},
   "source": [
    "To check that the Graphviz is installed, run the code:"
   ]
  },
  {
   "cell_type": "raw",
   "id": "dbc90349-a4dd-4a5b-bee7-234996941115",
   "metadata": {},
   "source": [
    "dot –V"
   ]
  },
  {
   "cell_type": "markdown",
   "id": "16283a7c-92b9-4b55-b1c2-a38b117e091b",
   "metadata": {},
   "source": [
    "If the output is as follows, then you have istalled Graphviz successfully!"
   ]
  },
  {
   "cell_type": "raw",
   "id": "646d9786-345f-4a43-bec0-3d5999da06c4",
   "metadata": {},
   "source": [
    "dot - Graphviz version 2.49.3"
   ]
  },
  {
   "cell_type": "markdown",
   "id": "ef9f6ff2-d3de-45ca-b23f-002963eb6cab",
   "metadata": {},
   "source": [
    "- **For Linux Users:**"
   ]
  },
  {
   "cell_type": "markdown",
   "id": "beebf55f-d0a1-464f-a190-af1f881bd23b",
   "metadata": {},
   "source": [
    "To install the Graphviz using package manager run the following code:"
   ]
  },
  {
   "cell_type": "raw",
   "id": "75bc0af8-3876-4777-b070-e780d53cf40f",
   "metadata": {},
   "source": [
    "Code: sudo apt install Graphviz # Debian/Ubuntu\n",
    "sudo yum install Graphviz # CentOS/RHEL\n",
    "sudo pacman -S Graphviz # Arch Linux"
   ]
  },
  {
   "cell_type": "markdown",
   "id": "a7dcad9b-dbd1-4f89-81a4-b44b50c10b9c",
   "metadata": {},
   "source": [
    "To check if Graphviz is installed, run the code:"
   ]
  },
  {
   "cell_type": "raw",
   "id": "f6f244b8-a105-4ec9-a59a-facb924a31e9",
   "metadata": {},
   "source": [
    "dot –V"
   ]
  },
  {
   "cell_type": "markdown",
   "id": "a6023493-3aae-4efc-a047-e621097bf2d0",
   "metadata": {},
   "source": [
    "Now, you have successfully installed Graphviz! Let's move on to install Diagram library using pip command.\n",
    "\n",
    "Run the following code on the terminal:"
   ]
  },
  {
   "cell_type": "raw",
   "id": "65736eea-b3ee-47f1-b648-5c9e1a10ac89",
   "metadata": {},
   "source": [
    "pip install diagrams"
   ]
  },
  {
   "cell_type": "markdown",
   "id": "db59cfef-4102-4b11-aeca-56611868c5a0",
   "metadata": {},
   "source": [
    "To upgrade to the latest version of this library run the code:"
   ]
  },
  {
   "cell_type": "raw",
   "id": "30a629e8-75f0-4c90-9872-8338619b9afe",
   "metadata": {},
   "source": [
    "pip install --upgrade diagrams"
   ]
  },
  {
   "cell_type": "markdown",
   "id": "9e86fad3-1654-4d16-835e-bffa08b6b713",
   "metadata": {},
   "source": [
    "To check if Diagrams is installed correctly, run the following code:"
   ]
  },
  {
   "cell_type": "raw",
   "id": "f48e9278-c227-4310-aed5-560a3b8ad83e",
   "metadata": {},
   "source": [
    "from diagrams import Diagram  \n",
    "from diagrams.aws.compute import EC2  \n",
    "\n",
    "with Diagram(\"Simple Diagram\"):  \n",
    "    EC2(\"my server\")"
   ]
  },
  {
   "cell_type": "markdown",
   "id": "cf44d89b-9420-4caf-9b1c-04658c2f68fe",
   "metadata": {},
   "source": [
    "Here Simple Diagram is the name of the diagram. If you run the above code with the command below,"
   ]
  },
  {
   "cell_type": "raw",
   "id": "82de9480-786a-4f5c-9f1d-a42cd1d82819",
   "metadata": {},
   "source": [
    "$ python diagram.py"
   ]
  },
  {
   "cell_type": "markdown",
   "id": "d0ce112a-5ea2-4b28-b8e4-c9cb7f87e927",
   "metadata": {},
   "source": [
    "If Diagrams is installed successfully then this will generate an image file with single EC2 node drawn as simple_diagram.png in your working directory and open that created image file immediately."
   ]
  },
  {
   "cell_type": "markdown",
   "id": "4b8db5ed-51b7-429b-8f70-eecb43eeea65",
   "metadata": {},
   "source": [
    "***Core Features***"
   ]
  },
  {
   "cell_type": "markdown",
   "id": "f70ea873-4717-413d-a4bd-023ed7ff4c30",
   "metadata": {},
   "source": [
    "The diagrams library consists of four basic things:\n",
    "\n",
    "**1. Diagram:** This acts as the main container that holds all the elements of your architecture visualization. Think of it as a blueprint where you define configurations for your diagram. However, in most cases, all you need to do is provide a name for your diagram. You can create a diagram context with the Diagram class. The first parameter of the Diagram constructor will be used to generate the output filename."
   ]
  },
  {
   "cell_type": "markdown",
   "id": "d7fe0514-3cd9-4051-8667-d99b05d19da8",
   "metadata": {},
   "source": [
    "**2. Nodes:** Once we define the Diagram context, the next step is to add Nodes, which are the fundamental elements that represent different services and components in your architecture.\n",
    "A Node can be any resource in the system such as:\n",
    "\n",
    "- An EC2 instance\n",
    "\n",
    "- A Lambda function\n",
    "\n",
    "- An SQS queue\n",
    "\n",
    "- A Jenkins job, etc.\n",
    "\n",
    "Each Node belongs to a specific package within the Diagrams library. You can import them as needed. All these nodes can be assigned to variables as well.\n",
    "\n",
    "**Let's understand how to use Nodes?**\n",
    "\n",
    "Nodes are imported from different provider categories, such as diagrams.aws.compute, diagrams.onprem.database, etc. A node object consists of three parts: provider, resource type and name. Here is a simple example:"
   ]
  },
  {
   "cell_type": "raw",
   "id": "06809925-481f-448e-96c5-2c0cd061f817",
   "metadata": {},
   "source": [
    "from diagrams import Diagram\n",
    "from diagrams.aws.compute import EC2\n",
    "\n",
    "with Diagram(\"Simple Diagram\"):\n",
    "    EC2(\"web\")"
   ]
  },
  {
   "cell_type": "markdown",
   "id": "0e28e42a-b52a-4364-a9e8-1ec5438ba376",
   "metadata": {},
   "source": [
    "In this example, EC2 is a node of resource type compute which is provided by the aws provider.\n",
    "Other node objects can also used in similar manner."
   ]
  },
  {
   "cell_type": "raw",
   "id": "21e1b98c-9f62-4ecc-9e6e-9b10b018253b",
   "metadata": {},
   "source": [
    "from diagrams import Diagram\n",
    "from diagrams.aws.storage import S3\n",
    "from diagrams.onprem.compute import Server\n",
    "from diagrams.aws.analytics import Redshift\n",
    "\n",
    "with Diagram(\"My Design Diagram\") :\n",
    "    DataService = Server(\"Data Service\")\n",
    "\n",
    "    S3Storage = S3(\"S3 Bucket\")\n",
    "\n",
    "    MasterDB = Redshift(\"Redshift DW\")"
   ]
  },
  {
   "cell_type": "markdown",
   "id": "a345cb32-9ff0-42cd-a08f-3b5976616b12",
   "metadata": {},
   "source": [
    "This code snippet will generate this: "
   ]
  },
  {
   "cell_type": "code",
   "execution_count": null,
   "id": "76fa51a3-e969-46ea-abf8-2cf2fe4b1405",
   "metadata": {},
   "outputs": [],
   "source": []
  },
  {
   "cell_type": "markdown",
   "id": "307ed9a9-a8b9-4fa7-b65c-105d195c36fe",
   "metadata": {},
   "source": [
    "Other node objects can also used in similar manner."
   ]
  },
  {
   "cell_type": "raw",
   "id": "7c51c96a-2f1f-46ab-a505-0230939c702f",
   "metadata": {},
   "source": [
    "# aws resources\n",
    "from diagrams.aws.compute import ECS, Lambda\n",
    "from diagrams.aws.database import RDS, ElastiCache\n",
    "from diagrams.aws.network import ELB, Route53, VPC\n",
    "...\n",
    "\n",
    "# azure resources\n",
    "from diagrams.azure.compute import FunctionApps\n",
    "from diagrams.azure.storage import BlobStorage\n",
    "...\n",
    "\n",
    "# alibaba cloud resources\n",
    "from diagrams.alibabacloud.compute import ECS\n",
    "from diagrams.alibabacloud.storage import ObjectTableStore\n",
    "...\n",
    "\n",
    "# gcp resources\n",
    "from diagrams.gcp.compute import AppEngine, GKE\n",
    "from diagrams.gcp.ml import AutoML\n",
    "...\n",
    "\n",
    "# k8s resources\n",
    "from diagrams.k8s.compute import Pod, StatefulSet\n",
    "from diagrams.k8s.network import Service\n",
    "from diagrams.k8s.storage import PV, PVC, StorageClass\n",
    "...\n",
    "\n",
    "# oracle resources\n",
    "from diagrams.oci.compute import VirtualMachine, Container\n",
    "from diagrams.oci.network import Firewall\n",
    "from diagrams.oci.storage import FileStorage, StorageGateway"
   ]
  },
  {
   "cell_type": "markdown",
   "id": "f291125f-80c4-4012-b7f5-8aeca687f027",
   "metadata": {},
   "source": [
    "****DataFlow****"
   ]
  },
  {
   "cell_type": "markdown",
   "id": "8cd72c10-15f3-48b7-aab3-29833fbba79f",
   "metadata": {},
   "source": [
    "Data flow can be represented by connecting the nodes with the operators >>, <<, and -."
   ]
  },
  {
   "cell_type": "markdown",
   "id": "77a4b278-580c-4af3-ac73-e63bf9afbcfd",
   "metadata": {},
   "source": [
    "**>>** connects nodes in left to right direction.\n",
    "\n",
    "**<<** connects nodes in right to left direction.\n",
    "\n",
    "**-** connects nodes in no direction. Undirected."
   ]
  },
  {
   "cell_type": "raw",
   "id": "c07bf037-8737-4465-b740-1287a4e9b55f",
   "metadata": {},
   "source": [
    "from diagrams import Diagram\n",
    "from diagrams.aws.compute import EC2\n",
    "from diagrams.aws.database import RDS\n",
    "from diagrams.aws.network import ELB\n",
    "from diagrams.aws.storage import S3\n",
    "\n",
    "with Diagram(\"Web Services\", show=False):\n",
    "    ELB(\"lb\") >> EC2(\"web\") >> RDS(\"userdb\") >> S3(\"store\")\n",
    "    ELB(\"lb\") >> EC2(\"web\") >> RDS(\"userdb\") << EC2(\"stat\")\n",
    "    (ELB(\"lb\") >> EC2(\"web\")) - EC2(\"web\") >> RDS(\"userdb\")"
   ]
  },
  {
   "cell_type": "code",
   "execution_count": null,
   "id": "d499759e-973e-493a-9040-60eaa0cd2c71",
   "metadata": {},
   "outputs": [],
   "source": []
  },
  {
   "cell_type": "markdown",
   "id": "cb94b25c-17a5-42f1-a1b7-bf5af173a954",
   "metadata": {},
   "source": [
    "**Note:** Be careful when using '-' and any shift operators together. It can cause unexpected results due to Python's operator precedence, so you might have to use parentheses."
   ]
  },
  {
   "cell_type": "markdown",
   "id": "74169ba2-b28e-48ce-9c35-9e9a08b4cc2f",
   "metadata": {},
   "source": [
    "The Data Flow direction can be changed with the direction parameter. The default is LR.\n",
    "\n",
    "Allowed values are: TB, BT, LR, and RL"
   ]
  },
  {
   "cell_type": "raw",
   "id": "90bf3dc2-8cd7-4d98-898b-f6bba2d92a7d",
   "metadata": {},
   "source": [
    "from diagrams import Diagram\n",
    "from diagrams.aws.compute import EC2\n",
    "from diagrams.aws.database import RDS\n",
    "from diagrams.aws.network import ELB\n",
    "\n",
    "with Diagram(\"Workers\", show=False, direction=\"TB\"):\n",
    "    lb = ELB(\"lb\")\n",
    "    db = RDS(\"events\")\n",
    "    lb >> EC2(\"worker1\") >> db\n",
    "    lb >> EC2(\"worker2\") >> db\n",
    "    lb >> EC2(\"worker3\") >> db\n",
    "    lb >> EC2(\"worker4\") >> db\n",
    "    lb >> EC2(\"worker5\") >> db"
   ]
  },
  {
   "cell_type": "code",
   "execution_count": null,
   "id": "7cd10601-2213-4a8f-beb5-3159a1c93a65",
   "metadata": {},
   "outputs": [],
   "source": []
  },
  {
   "cell_type": "markdown",
   "id": "54bbd69d-8854-419d-83ad-38dd4519e893",
   "metadata": {},
   "source": [
    "****Group Data Flow****"
   ]
  },
  {
   "cell_type": "markdown",
   "id": "6d6f8a4d-60cd-428d-97f7-4c3b0becce7c",
   "metadata": {},
   "source": [
    "To avoid too many reduntant flows, you can group nodes into a list so that all nodes are connected to other nodes at once:"
   ]
  },
  {
   "cell_type": "raw",
   "id": "fbfac22c-08ff-4886-b1a5-c3c446e7d598",
   "metadata": {},
   "source": [
    "from diagrams import Diagram\n",
    "from diagrams.aws.compute import EC2\n",
    "from diagrams.aws.database import RDS\n",
    "from diagrams.aws.network import ELB\n",
    "\n",
    "with Diagram(\"Grouped Workers\", show=False, direction=\"TB\"):\n",
    "    ELB(\"lb\") >> [EC2(\"worker1\"),\n",
    "                  EC2(\"worker2\"),\n",
    "                  EC2(\"worker3\"),\n",
    "                  EC2(\"worker4\"),\n",
    "                  EC2(\"worker5\")] >> RDS(\"events\")\n"
   ]
  },
  {
   "cell_type": "code",
   "execution_count": null,
   "id": "6c209fc3-adcb-40ef-b0ab-28d709617fb7",
   "metadata": {},
   "outputs": [],
   "source": []
  },
  {
   "cell_type": "markdown",
   "id": "14ed3fb2-98e0-41eb-89fa-931b2a49b039",
   "metadata": {},
   "source": [
    "**Note:** You can't connect two lists directly because shift/arithmetic operations between lists are not allowed in Python."
   ]
  },
  {
   "cell_type": "markdown",
   "id": "e6b06e6d-5517-4271-ac51-04453459db00",
   "metadata": {},
   "source": [
    "**3. Cluster:** A cluster is nothing but a set of nodes that we want together. A cluster is defined using the cluster context and any node defined under that context is grouped together. You can also give it a name to define your cluster group. You can also nest clusters under clusters. "
   ]
  },
  {
   "cell_type": "raw",
   "id": "1c21af9c-ee95-4df1-a69d-97bbe87bfcdd",
   "metadata": {},
   "source": [
    "from diagrams import Cluster, Diagram\n",
    "from diagrams.aws.compute import ECS\n",
    "from diagrams.aws.database import RDS\n",
    "from diagrams.aws.network import Route53\n",
    "\n",
    "with Diagram(\"Simple Web Service with DB Cluster\", show=False):\n",
    "    dns = Route53(\"dns\")\n",
    "    web = ECS(\"service\")\n",
    "\n",
    "    with Cluster(\"DB Cluster\"):\n",
    "        db_primary = RDS(\"primary\")\n",
    "        db_primary - [RDS(\"replica1\"),\n",
    "                     RDS(\"replica2\")]\n",
    "\n",
    "    dns >> web >> db_primary"
   ]
  },
  {
   "cell_type": "code",
   "execution_count": null,
   "id": "0cd4e6ec-a4d8-4464-bb3d-488f8b038b23",
   "metadata": {},
   "outputs": [],
   "source": []
  },
  {
   "cell_type": "markdown",
   "id": "83ee4585-fd7e-47f5-a357-814d3450b2af",
   "metadata": {},
   "source": [
    "****Nested Cluster:****"
   ]
  },
  {
   "cell_type": "raw",
   "id": "640ea23c-da7d-4461-8e58-d5e54edfc8f0",
   "metadata": {},
   "source": [
    "from diagrams import Cluster, Diagram\n",
    "from diagrams.aws.compute import ECS, EKS, Lambda\n",
    "from diagrams.aws.database import Redshift\n",
    "from diagrams.aws.integration import SQS\n",
    "from diagrams.aws.storage import S3\n",
    "\n",
    "with Diagram(\"Event Processing\", show=False):\n",
    "    source = EKS(\"k8s source\")\n",
    "\n",
    "    with Cluster(\"Event Flows\"):\n",
    "        with Cluster(\"Event Workers\"):\n",
    "            workers = [ECS(\"worker1\"),\n",
    "                       ECS(\"worker2\"),\n",
    "                       ECS(\"worker3\")]\n",
    "\n",
    "        queue = SQS(\"event queue\")\n",
    "\n",
    "        with Cluster(\"Processing\"):\n",
    "            handlers = [Lambda(\"proc1\"),\n",
    "                        Lambda(\"proc2\"),\n",
    "                        Lambda(\"proc3\")]\n",
    "\n",
    "    store = S3(\"events store\")\n",
    "    dw = Redshift(\"analytics\")\n",
    "\n",
    "    source >> workers >> queue >> handlers\n",
    "    handlers >> store\n",
    "    handlers >> dw"
   ]
  },
  {
   "cell_type": "code",
   "execution_count": null,
   "id": "6379e5a6-e9dc-44db-9ee3-da140b52d990",
   "metadata": {},
   "outputs": [],
   "source": []
  },
  {
   "cell_type": "markdown",
   "id": "17e552f8-6e48-47d8-803d-e9b9538c6c20",
   "metadata": {},
   "source": [
    "**4. Edge:** Edge is an object representing a connection between nodes with some additional properties.You can set the colour, label, and style of your edge that connects your nodes. An edge object contains three attributes: label, color, and style. They mirror the corresponding Graphviz edge attributes."
   ]
  },
  {
   "cell_type": "raw",
   "id": "f1d74352-5f26-43d3-a459-9584ca429b32",
   "metadata": {},
   "source": [
    "from diagrams import Diagram, Edge\n",
    "from diagrams.aws.storage import S3\n",
    "from diagrams.onprem.compute import Server\n",
    "from diagrams.aws.analytics import Redshift\n",
    "\n",
    "with Diagram(\"My Design Diagram\") :\n",
    "    DataService = Server(\"Data Service\")\n",
    "\n",
    "    S3Storage = S3(\"S3 Bucket\")\n",
    "\n",
    "    MasterDB = Redshift(\"Redshift DW\")\n",
    "    \n",
    "    DataService >> Edge(label=\"Sending data to S3\") >> S3Storage \n",
    "    S3Storage >> Edge(label=\"Copying data to Redshift\") >> MasterDB"
   ]
  },
  {
   "cell_type": "code",
   "execution_count": null,
   "id": "42244411-e443-42e2-a0c0-7fcd463cb022",
   "metadata": {},
   "outputs": [],
   "source": []
  },
  {
   "cell_type": "raw",
   "id": "fba2e937-2bed-4ba3-8d46-78ebf6850277",
   "metadata": {},
   "source": [
    "from diagrams import Cluster, Diagram, Edge\n",
    "from diagrams.onprem.analytics import Spark\n",
    "from diagrams.onprem.compute import Server\n",
    "from diagrams.onprem.database import PostgreSQL\n",
    "from diagrams.onprem.inmemory import Redis\n",
    "from diagrams.onprem.aggregator import Fluentd\n",
    "from diagrams.onprem.monitoring import Grafana, Prometheus\n",
    "from diagrams.onprem.network import Nginx\n",
    "from diagrams.onprem.queue import Kafka\n",
    "\n",
    "with Diagram(name=\"Advanced Web Service with On-Premises (colored)\", show=False):\n",
    "    ingress = Nginx(\"ingress\")\n",
    "\n",
    "    metrics = Prometheus(\"metric\")\n",
    "    metrics << Edge(color=\"firebrick\", style=\"dashed\") << Grafana(\"monitoring\")\n",
    "\n",
    "    with Cluster(\"Service Cluster\"):\n",
    "        grpcsvc = [\n",
    "            Server(\"grpc1\"),\n",
    "            Server(\"grpc2\"),\n",
    "            Server(\"grpc3\")]\n",
    "\n",
    "    with Cluster(\"Sessions HA\"):\n",
    "        primary = Redis(\"session\")\n",
    "        primary \\\n",
    "            - Edge(color=\"brown\", style=\"dashed\") \\\n",
    "            - Redis(\"replica\") \\\n",
    "            << Edge(label=\"collect\") \\\n",
    "            << metrics\n",
    "        grpcsvc >> Edge(color=\"brown\") >> primary\n",
    "\n",
    "    with Cluster(\"Database HA\"):\n",
    "        primary = PostgreSQL(\"users\")\n",
    "        primary \\\n",
    "            - Edge(color=\"brown\", style=\"dotted\") \\\n",
    "            - PostgreSQL(\"replica\") \\\n",
    "            << Edge(label=\"collect\") \\\n",
    "            << metrics\n",
    "        grpcsvc >> Edge(color=\"black\") >> primary\n",
    "\n",
    "    aggregator = Fluentd(\"logging\")\n",
    "    aggregator \\\n",
    "        >> Edge(label=\"parse\") \\\n",
    "        >> Kafka(\"stream\") \\\n",
    "        >> Edge(color=\"black\", style=\"bold\") \\\n",
    "        >> Spark(\"analytics\")\n",
    "\n",
    "    ingress \\\n",
    "        >> Edge(color=\"darkgreen\") \\\n",
    "        << grpcsvc \\\n",
    "        >> Edge(color=\"darkorange\") \\\n",
    "        >> aggregator\n"
   ]
  },
  {
   "cell_type": "code",
   "execution_count": null,
   "id": "aa83000e-71b1-453c-b7ee-1621a1adfb86",
   "metadata": {},
   "outputs": [],
   "source": []
  },
  {
   "cell_type": "markdown",
   "id": "2b6cc2f6-dbc1-4683-b610-57069d4e7ef2",
   "metadata": {},
   "source": [
    "Now, let's move forward to understand the relationships between Nodes."
   ]
  },
  {
   "cell_type": "markdown",
   "id": "eee02364-9a7d-41cd-9e06-0178cbda8140",
   "metadata": {},
   "source": [
    "**Directed Relationship:** This means a node is pointing towards the next one. Without using edge, you can just use the “>>” operator for this and an arrow will be created between your nodes.\n",
    "\n",
    "**Synergic Relationship:** This is to define nodes that work together as a single unit. You can define this by using the “-” operator between nodes."
   ]
  },
  {
   "cell_type": "raw",
   "id": "fb277854-e75d-4604-87f4-70b9e779ed14",
   "metadata": {},
   "source": [
    "from diagrams import Diagram, Edge, Cluster\n",
    "from diagrams.aws.storage import S3\n",
    "from diagrams.onprem.compute import Server\n",
    "from diagrams.aws.analytics import Redshift\n",
    "from diagrams.aws.compute import LambdaFunction as Lambda\n",
    "\n",
    "with Diagram(\"My Design Diagram\") :\n",
    "    DataService = Server(\"Data Service\")\n",
    "\n",
    "    with Cluster('S3 Buckets') :\n",
    "        S3Storage = [S3(f\"S3 Bucket_{n}\") for n in range(1,4)]\n",
    "\n",
    "    with Cluster('Lambda Process'):\n",
    "        Lambdas = [Lambda(f\"LambdaFunction_{n}\") for n in range(1,4)]\n",
    "\n",
    "        for n in range(0,2):\n",
    "            Lambdas[n] - Lambdas[n+1]\n",
    "\n",
    "\n",
    "\n",
    "    MasterDB = Redshift(\"Redshift DW\")\n",
    "\n",
    "    DataService >> Edge(label=\"Sending data to S3\") >> S3Storage\n",
    "    S3Storage >> Edge(label=\"Copying data to Redshift\") >> MasterDB\n",
    "    MasterDB >> Lambdas"
   ]
  },
  {
   "cell_type": "code",
   "execution_count": null,
   "id": "d0488473-9126-49e9-913e-b5d6d18ecaeb",
   "metadata": {},
   "outputs": [],
   "source": []
  },
  {
   "cell_type": "markdown",
   "id": "768f03e2-47b3-4539-bc27-562a54872bff",
   "metadata": {},
   "source": [
    "Here we have defined the relationship between the lambda function using the '-' operator and so they are now in synergic relationshi and work together inside the cluster. It can be seen from here that how the Redshift DW directed to the Lambda functions without any text defining a directed relationship by just using the '>>' operator without any Edge."
   ]
  },
  {
   "cell_type": "markdown",
   "id": "7ea00505-0750-421b-b816-36591e995340",
   "metadata": {},
   "source": [
    "***Advanced Features & Customizations***"
   ]
  },
  {
   "cell_type": "markdown",
   "id": "26cc29ee-a4a1-46ab-9fe9-73975bf85711",
   "metadata": {},
   "source": [
    "Now that you've covered the basics (Diagram, Nodes, Edges, Clusters, and Relationships), let's introduce more customization options. One of the standout features of the Diagrams library is its simple and intuitive Python syntax.Diagrams allows users to define infrastructure, system architecture, and cloud diagrams using concise Python code.\n",
    "These are the key features of the Diagram library:"
   ]
  },
  {
   "cell_type": "markdown",
   "id": "d5065282-3a58-4277-8c18-017653554a2a",
   "metadata": {},
   "source": [
    "**1. Customizing Node Styles:** Diagrams allow you to customize node styles, including color, shape, and icons, to enhance clarity and visual appeal."
   ]
  },
  {
   "cell_type": "raw",
   "id": "eafd5102-6e07-4aa9-b243-aa8886272892",
   "metadata": {},
   "source": [
    "from diagrams import Diagram\n",
    "from diagrams.aws.compute import EC2\n",
    "from diagrams.aws.database import RDS\n",
    "from diagrams.aws.network import ELB\n",
    "\n",
    "with Diagram(\"Custom Styled Nodes\", show=True, direction=\"TB\"):\n",
    "    lb = ELB(\"Load Balancer\")  # Default AWS icon\n",
    "    web = EC2(\"Web Server\")  # EC2 icon\n",
    "    db = RDS(\"Database\")  # Database icon\n",
    "\n",
    "    lb - [web] - db  # Defining connections\n"
   ]
  },
  {
   "cell_type": "code",
   "execution_count": null,
   "id": "40250337-5701-4455-8ee0-0164e697b3a6",
   "metadata": {},
   "outputs": [],
   "source": []
  },
  {
   "cell_type": "markdown",
   "id": "4399389d-04b4-4e8e-9526-1a7c990f28c6",
   "metadata": {},
   "source": [
    "**2. Using Subgraphs for Better Organization:** Subgraphs (Clusters) help group related components in a diagram, making it easier to understand complex systems."
   ]
  },
  {
   "cell_type": "raw",
   "id": "36fbf05e-f0df-45a7-8590-8a31ed67c1e8",
   "metadata": {},
   "source": [
    "from diagrams import Diagram, Cluster\n",
    "from diagrams.aws.compute import EC2\n",
    "from diagrams.aws.database import RDS\n",
    "from diagrams.aws.network import ELB\n",
    "\n",
    "with Diagram(\"Grouped Architecture\", show=True, direction=\"TB\"):\n",
    "    lb = ELB(\"Load Balancer\")\n",
    "\n",
    "    with Cluster(\"Application Servers\"):\n",
    "        web1 = EC2(\"Web Server 1\")\n",
    "        web2 = EC2(\"Web Server 2\")\n",
    "\n",
    "    db = RDS(\"Database\")\n",
    "\n",
    "    lb - [web1, web2] - db  # Connecting nodes\n"
   ]
  },
  {
   "cell_type": "code",
   "execution_count": null,
   "id": "cf25960d-9bae-4eaf-96e5-9f60367df784",
   "metadata": {},
   "outputs": [],
   "source": []
  },
  {
   "cell_type": "markdown",
   "id": "e10bc8ff-9e87-4274-aacf-c130742c8895",
   "metadata": {},
   "source": [
    "**3. Arranging Layouts:** By default, Diagrams arranges components top to bottom (TB), but you can customize it using direction attributes:\n",
    "\n",
    "- TB (Top to Bottom)\n",
    "\n",
    "- LR (Left to Right)\n",
    "\n",
    "- BT (Bottom to Top)\n",
    "\n",
    "- RL (Right to Left)\n",
    "\n",
    "Example : Left-to-Right (LR) Layout"
   ]
  },
  {
   "cell_type": "raw",
   "id": "88f178ac-e604-4ec9-8cc5-01f7e60d4783",
   "metadata": {},
   "source": [
    "from diagrams import Diagram\n",
    "from diagrams.aws.compute import EC2\n",
    "from diagrams.aws.database import RDS\n",
    "from diagrams.aws.network import ELB\n",
    "\n",
    "with Diagram(\"Left to Right Layout\", direction=\"LR\", show=True):\n",
    "    lb = ELB(\"Load Balancer\")\n",
    "    web = EC2(\"Web Server\")\n",
    "    db = RDS(\"Database\")\n",
    "\n",
    "    lb >> web >> db  # Flow from left to right\n"
   ]
  },
  {
   "cell_type": "code",
   "execution_count": null,
   "id": "aee32467-5cd1-4693-9583-10b01d3614ca",
   "metadata": {},
   "outputs": [],
   "source": []
  },
  {
   "cell_type": "markdown",
   "id": "ab1d2a5a-e733-4b85-bd76-cbba69ecb69d",
   "metadata": {},
   "source": [
    "**4. Adding Custom Icons and Images:** By default, Diagrams uses built-in icons, but you can use custom images for non-supported components."
   ]
  },
  {
   "cell_type": "raw",
   "id": "ecdfc3cf-9ae7-4c7e-a129-9104e0d6a7a7",
   "metadata": {},
   "source": [
    "from diagrams import Diagram\n",
    "from diagrams.custom import Custom\n",
    "\n",
    "with Diagram(\"Custom Icon Example\", show=True):\n",
    "    my_service = Custom(\"My Service\", \"./my_icon.png\")\n"
   ]
  },
  {
   "cell_type": "code",
   "execution_count": null,
   "id": "544aa322-9a9f-44a6-9bba-dd87d71c8faa",
   "metadata": {},
   "outputs": [],
   "source": []
  },
  {
   "cell_type": "markdown",
   "id": "7a751d08-0a0d-4860-bbe2-49881a7b7a71",
   "metadata": {},
   "source": [
    "**5. Defining Complex Relationships (Bidirectional & Conditional Arrows):** This helps represent data flow, feedback loops, and interdependencies."
   ]
  },
  {
   "cell_type": "raw",
   "id": "f94602a4-e40b-4461-81aa-49074e9e5a6c",
   "metadata": {},
   "source": [
    "from diagrams import Diagram\n",
    "from diagrams.aws.compute import EC2\n",
    "from diagrams.aws.database import RDS\n",
    "from diagrams.aws.network import ELB\n",
    "\n",
    "with Diagram(\"Complex Relationships\", show=True):\n",
    "    lb = ELB(\"Load Balancer\")\n",
    "    web = EC2(\"Web Server\")\n",
    "    db = RDS(\"Database\")\n",
    "\n",
    "    lb >> web  # One-way connection\n",
    "    web >> db  # One-way connection\n",
    "    db << web  # Bidirectional connection (data flow)\n"
   ]
  },
  {
   "cell_type": "code",
   "execution_count": null,
   "id": "fab70b69-6f0d-477b-8787-11045c4be639",
   "metadata": {},
   "outputs": [],
   "source": []
  },
  {
   "cell_type": "markdown",
   "id": "951d1c0f-7139-42b8-9f11-7f594136880c",
   "metadata": {},
   "source": [
    "**6. Using Different Providers (AWS, GCP, Azure, On-Premises):** Diagrams supports multiple cloud providers and on-premises infrastructure. "
   ]
  },
  {
   "cell_type": "raw",
   "id": "7fe92dc8-8355-435a-a52f-fab303540066",
   "metadata": {},
   "source": [
    "from diagrams import Diagram\n",
    "from diagrams.aws.compute import EC2\n",
    "from diagrams.azure.compute import FunctionApp\n",
    "from diagrams.gcp.compute import GCE\n",
    "from diagrams.onprem.database import PostgreSQL\n",
    "\n",
    "with Diagram(\"Multi-Cloud Setup\", show=True):\n",
    "    aws_vm = EC2(\"AWS EC2\")\n",
    "    azure_func = FunctionApp(\"Azure Function\")\n",
    "    gcp_vm = GCE(\"GCP Compute Engine\")\n",
    "    onprem_db = PostgreSQL(\"On-Prem Database\")\n",
    "\n",
    "    aws_vm >> azure_func >> gcp_vm >> onprem_db\n"
   ]
  },
  {
   "cell_type": "code",
   "execution_count": null,
   "id": "e8bb5d20-7f9c-4cc7-91eb-ccc363cc4bad",
   "metadata": {},
   "outputs": [],
   "source": []
  },
  {
   "cell_type": "markdown",
   "id": "a2317a51-5e75-49d6-9b11-aeb14d0473bd",
   "metadata": {},
   "source": [
    "**7. Prebuilt Cloud and On-Prem Components :** The Diagrams library provides prebuilt cloud and on-prem components that allow users to easily create infrastructure diagrams without\n",
    "designing custom icons or shapes. These components represent various cloud services,\n",
    "networking elements, storage, databases, and security tools from providers like AWS,Azure,\n",
    "Google Cloud, and on-prem architectures."
   ]
  },
  {
   "cell_type": "markdown",
   "id": "72f14b7b-5d7a-4fb0-bdcd-718735c0dd34",
   "metadata": {},
   "source": [
    "| Category         | Supported Services                                        |\n",
    "|-----------------|----------------------------------------------------------|\n",
    "| Cloud Providers | AWS, Azure, GCP, OpenStack, Alibaba Cloud                |\n",
    "| DevOps Tools    | Kubernetes, Terraform, Jenkins, GitHub Actions           |\n",
    "| Networking      | Cisco, F5, Juniper routers and firewalls                 |\n",
    "| On-Premise      | Generic servers, databases, load balancers               |\n"
   ]
  },
  {
   "cell_type": "markdown",
   "id": "f17f797f-a013-4524-8e40-3d8e2ad81aef",
   "metadata": {},
   "source": [
    "**8. Exporting and Saving Diagrams:** Once you create a diagram using the Diagrams(mingrammer/diagrams) library, you may need to export, save, or share it in different formats. The library automatically generates an image file when the diagram script runs, but you can customize the output file format,location, and visualization options.\n",
    "Example: Save as SVG"
   ]
  },
  {
   "cell_type": "raw",
   "id": "f98939f5-97f3-4bb2-a771-487aa1715504",
   "metadata": {},
   "source": [
    "from diagrams import Diagram\n",
    "from diagrams.aws.compute import EC2\n",
    "with Diagram(&quot;Custom_Diagram&quot;, filename=&quot;my_diagram&quot;, outformat=&quot;svg&quot;):\n",
    "EC2(&quot;Web Server&quot;)"
   ]
  },
  {
   "cell_type": "markdown",
   "id": "3342dd9c-b1aa-4bc6-851d-cc0ba7d1c9ae",
   "metadata": {},
   "source": [
    "**Summary of Advanced Features**"
   ]
  },
  {
   "cell_type": "markdown",
   "id": "36170b6a-ff36-4a88-913e-3af657c9eee0",
   "metadata": {},
   "source": [
    "| Feature              | Description & Use Case                                      |\n",
    "|----------------------|------------------------------------------------------------|\n",
    "| **Custom Icons**     | Use custom images for branding or non-supported tools.     |\n",
    "| **Relationships**    | Define one-way, bidirectional, and feedback loop connections. |\n",
    "| **Multi-Cloud Support** | Connect AWS, Azure, GCP, and on-prem services.         |\n",
    "| **Exporting Diagrams** | Save diagrams as PNG, SVG, PDF, or JPG.                  |\n",
    "| **CI/CD Integration** | Automate diagram generation in pipelines.                 |\n"
   ]
  },
  {
   "cell_type": "markdown",
   "id": "e7a0b58a-c6e4-4050-86d3-609e32bc29c3",
   "metadata": {},
   "source": [
    "***Best Practices & Tips for Creating Diagrams:***\n",
    "\n",
    "- Keep it Simple – Avoid overcrowding diagrams with unnecessary components.\n",
    "\n",
    "- Use Clusters – Organize diagrams into meaningful groups.\n",
    "\n",
    "- Label Components Properly – Use descriptive names for better clarity.\n",
    "\n",
    "- Use Version Control – Store diagrams in GitHub to track changes over time.\n",
    "\n",
    "- Optimize Layouts – Choose the best direction (TB, LR, RL, BT) for readability."
   ]
  },
  {
   "cell_type": "markdown",
   "id": "d6afba85-a96f-4d23-a588-6ad97a1378b7",
   "metadata": {},
   "source": [
    "***Real world Use-Cases***"
   ]
  },
  {
   "cell_type": "markdown",
   "id": "3374ccc1-5551-4833-9e80-5e1c9ceb8f60",
   "metadata": {},
   "source": [
    "**1. Cloud Architecture Visualization**\n",
    "- Helps in designing and documenting cloud architectures across platforms like AWS, GCP,\n",
    "Azure, Kubernetes, Alibaba Cloud and Oracle Cloud.\n",
    "\n",
    "- Example – Generates AWS network topology diagrams programmatically.\n",
    "\n",
    "- \n",
    "- Benefits: Automates cloud architecture documentation, ensuring up-to-date diagrams.\n",
    "\n",
    "\n",
    "**2. Software System Design**\n",
    "- Engineers and architects can expertly create flowcharts for software modules,\n",
    "microservices, and APIs.\n",
    "\n",
    "- Example: Clearly representing data flow in a microservices-based application.\n",
    "\n",
    "- \n",
    "- Benefits: Provides clear system design documentation.\n",
    "\n",
    "\n",
    "**3. Hybrid Cloud and Multi-Cloud Architecture**\n",
    "- Helps architects visualize hybrid cloud (on-prem + cloud) and multi-cloud (AWS + GCP +\n",
    "Azure) environments.\n",
    "\n",
    "- Example: Hybrid cloud infrastructure with AWS and on-premises resources.\n",
    "\n",
    "- Benefits: Helps organizations design failover and disaster recovery plans.\n",
    "\n",
    "**4. Security Architecture Visualization**\n",
    "- Useful for compliance and security reviews (ISO, NIST, SOC2).\n",
    "- \n",
    "- Example: Security Architecture for a Web Application.\n",
    "- \n",
    "- Benefits: Helps organizations comply with security policies and audits (ISO, SOC2, NIST)."
   ]
  },
  {
   "cell_type": "markdown",
   "id": "919142a6-16af-4c39-bee4-7e8b2301598d",
   "metadata": {},
   "source": [
    "***References***"
   ]
  },
  {
   "cell_type": "markdown",
   "id": "509006f4-2ff5-4587-9bbf-d8c45e7cc4ea",
   "metadata": {},
   "source": [
    "1. **mingrammer/diagrams GitHub Repository**\n",
    "   \n",
    "-\tURL: https://github.com/mingrammer/diagrams\n",
    "\n",
    "-\tDescription: Official GitHub repository with source code, examples, and documentation.\n"
   ]
  },
  {
   "cell_type": "markdown",
   "id": "a1746141-6f69-45ca-addd-a5c18b8d033b",
   "metadata": {},
   "source": [
    "2.\t**mingrammer/diagrams Documentation**\n",
    "  \n",
    "-\tURL: https://diagrams.mingrammer.com\n",
    "\n",
    "-\tDescription: Official documentation explaining installation and usage.\n"
   ]
  },
  {
   "cell_type": "markdown",
   "id": "9ba3edd4-f96f-4c4d-a571-4cd25f650d79",
   "metadata": {},
   "source": [
    "3.\t**YouTube – Python Diagrams for DevOps and Cloud Architecture**\n",
    "-\thttps://youtu.be/Oa-_EUg44cQ?feature=shared\n"
   ]
  },
  {
   "cell_type": "markdown",
   "id": "9dc645d4-1529-4a7d-86cb-a40020cdf4ae",
   "metadata": {},
   "source": [
    "***Conclusion:***\n",
    "\n",
    "- The mingrammer/diagrams library stands out as a powerful and versatile tool designed for\n",
    "users who need to create diagrams related to infrastructure, software, and networks using\n",
    "Python code.\n",
    "- This library offers a significant advantage over traditional diagramming tools like Microsoft\n",
    "Visio or Draw.io by automating the diagramming process.\n",
    "- As a result, it ensures that the system architecture remains consistent, up-to-date, and easily\n",
    "version-controlled, providing a streamlined approach to diagram creation."
   ]
  },
  {
   "cell_type": "markdown",
   "id": "5819f058-9a79-4207-98af-15aafde586ed",
   "metadata": {},
   "source": [
    "***Challenges:***\n",
    "\n",
    "- Requires basic Python knowledge for scripting diagrams.\n",
    "\n",
    "- Limited styling options compared to UI-based tools.\n",
    "\n",
    "- Unlike Google Drawings or Miro, diagrams lacks real-time team collaboration features."
   ]
  }
 ],
 "metadata": {
  "kernelspec": {
   "display_name": "Python 3",
   "language": "python",
   "name": "python3"
  },
  "language_info": {
   "codemirror_mode": {
    "name": "ipython",
    "version": 3
   },
   "file_extension": ".py",
   "mimetype": "text/x-python",
   "name": "python",
   "nbconvert_exporter": "python",
   "pygments_lexer": "ipython3",
   "version": "3.12.8"
  }
 },
 "nbformat": 4,
 "nbformat_minor": 5
}
